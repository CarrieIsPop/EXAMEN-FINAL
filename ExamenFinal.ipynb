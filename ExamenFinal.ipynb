{
  "cells": [
    {
      "cell_type": "markdown",
      "metadata": {
        "id": "view-in-github",
        "colab_type": "text"
      },
      "source": [
        "<a href=\"https://colab.research.google.com/github/CarrieIsPop/EXAMEN-FINAL/blob/main/ExamenFinal.ipynb\" target=\"_parent\"><img src=\"https://colab.research.google.com/assets/colab-badge.svg\" alt=\"Open In Colab\"/></a>"
      ]
    },
    {
      "cell_type": "markdown",
      "id": "12e7edb9",
      "metadata": {
        "id": "12e7edb9"
      },
      "source": [
        "Examen Práctico"
      ]
    },
    {
      "cell_type": "code",
      "execution_count": null,
      "id": "36b8427c",
      "metadata": {
        "id": "36b8427c"
      },
      "outputs": [],
      "source": [
        "import numpy as np\n",
        "import pandas as pd\n",
        "import cmath\n",
        "\n",
        "np.random.seed(0)\n",
        "\n",
        "print('numpy version:', np.__version__)\n",
        "print('pandas version:', pd.__version__)"
      ]
    },
    {
      "cell_type": "markdown",
      "id": "1ae61091",
      "metadata": {
        "id": "1ae61091"
      },
      "source": [
        "## Parte 1: Fundamentos NumPy"
      ]
    },
    {
      "cell_type": "code",
      "execution_count": null,
      "id": "6b3d0345",
      "metadata": {
        "id": "6b3d0345"
      },
      "outputs": [],
      "source": [
        "arr = np.arange(1, 21)\n",
        "print(arr)\n",
        "\n",
        "print(arr[arr % 3 == 0])\n",
        "\n",
        "mat = np.random.rand(5, 5)\n",
        "print(mat)\n",
        "\n",
        "print('Media:', mat.mean())\n",
        "print('Desviación estándar:', mat.std())\n",
        "print('Máximo:', mat.max())\n",
        "\n",
        "print(mat.flatten())"
      ]
    },
    {
      "cell_type": "markdown",
      "id": "9946343d",
      "metadata": {
        "id": "9946343d"
      },
      "source": [
        "## Parte 2: Fundamentos Pandas"
      ]
    },
    {
      "cell_type": "code",
      "execution_count": null,
      "id": "26c395e9",
      "metadata": {
        "id": "26c395e9"
      },
      "outputs": [],
      "source": [
        "data = {\n",
        "    'Nombre': ['Ana', 'Luis', 'María', 'Pedro', 'Sofía'],\n",
        "    'Edad': [20, 21, 19, 22, 20],\n",
        "    'Nota_Matemáticas': [18, 15, 16, 12, 19],\n",
        "    'Nota_IA': [17, 14, 18, 13, 20]\n",
        "}\n",
        "\n",
        "df = pd.DataFrame(data).set_index('Nombre')\n",
        "print(df)\n",
        "\n",
        "print(df.mean(numeric_only=True))\n",
        "\n",
        "print(df[df['Nota_IA'] > 15])\n",
        "\n",
        "df['Promedio'] = df[['Nota_Matemáticas','Nota_IA']].mean(axis=1)\n",
        "print(df)\n",
        "\n",
        "print(df.sort_values('Promedio', ascending=False))"
      ]
    },
    {
      "cell_type": "markdown",
      "id": "59dde79f",
      "metadata": {
        "id": "59dde79f"
      },
      "source": [
        "## Parte 3: Algoritmia aplicada"
      ]
    },
    {
      "cell_type": "code",
      "execution_count": null,
      "id": "36ce984a",
      "metadata": {
        "id": "36ce984a"
      },
      "outputs": [],
      "source": [
        "def mayor_menor_promedio(lista):\n",
        "    if not lista:\n",
        "        raise ValueError('Lista vacía')\n",
        "    return max(lista), min(lista), sum(lista)/len(lista)\n",
        "\n",
        "print(mayor_menor_promedio([3,7,2,9,4]))"
      ]
    },
    {
      "cell_type": "code",
      "execution_count": null,
      "id": "1a69b803",
      "metadata": {
        "id": "1a69b803"
      },
      "outputs": [],
      "source": [
        "def sigmoid(x):\n",
        "    x = np.array(x)\n",
        "    return 1/(1+np.exp(-x))\n",
        "\n",
        "x = np.array([-2,-1,0,1,2])\n",
        "print(sigmoid(x))"
      ]
    },
    {
      "cell_type": "code",
      "execution_count": null,
      "id": "60c63a41",
      "metadata": {
        "id": "60c63a41"
      },
      "outputs": [],
      "source": [
        "def clasificar(promedio):\n",
        "    return 'Aprobado' if promedio >= 14 else 'Desaprobado'\n",
        "\n",
        "df['Estado'] = df['Promedio'].apply(clasificar)\n",
        "print(df)"
      ]
    },
    {
      "cell_type": "markdown",
      "id": "3af96bd1",
      "metadata": {
        "id": "3af96bd1"
      },
      "source": [
        "Parte 4: Mini-proyecto"
      ]
    },
    {
      "cell_type": "code",
      "execution_count": null,
      "id": "5cc21ebd",
      "metadata": {
        "id": "5cc21ebd"
      },
      "outputs": [],
      "source": [
        "datos = {\n",
        "    'Producto': ['A','B','C','D','E'],\n",
        "    'Ventas_2024': [120, 340, 560, 230, 150],\n",
        "    'Ventas_2025': [200, 400, 600, 300, 180]\n",
        "}\n",
        "\n",
        "df_ventas = pd.DataFrame(datos)\n",
        "print(df_ventas)\n",
        "\n",
        "df_ventas['Crecimiento (%)'] = ((df_ventas['Ventas_2025'] - df_ventas['Ventas_2024']) / df_ventas['Ventas_2024'] * 100).round(2)\n",
        "print(df_ventas)\n",
        "\n",
        "producto_max = df_ventas.loc[df_ventas['Crecimiento (%)'].idxmax()]\n",
        "print('Producto con mayor crecimiento:\\n', producto_max)"
      ]
    },
    {
      "cell_type": "markdown",
      "id": "5b2a092f",
      "metadata": {
        "id": "5b2a092f"
      },
      "source": [
        "## Parte 5: Resolución de ecuaciones"
      ]
    },
    {
      "cell_type": "code",
      "execution_count": null,
      "id": "3dd63d1b",
      "metadata": {
        "id": "3dd63d1b"
      },
      "outputs": [],
      "source": [
        "def resolver_lineal(a,b):\n",
        "    if a==0:\n",
        "        return 'Infinitas soluciones' if b==0 else 'Sin solución'\n",
        "    return -b/a\n",
        "\n",
        "print(resolver_lineal(2,4))"
      ]
    },
    {
      "cell_type": "code",
      "execution_count": null,
      "id": "b89c5bf0",
      "metadata": {
        "id": "b89c5bf0"
      },
      "outputs": [],
      "source": [
        "def resolver_cuadratica(a,b,c):\n",
        "    if a==0:\n",
        "        return resolver_lineal(b,c)\n",
        "    disc = b**2 - 4*a*c\n",
        "    sqrt_disc = cmath.sqrt(disc)\n",
        "    x1 = (-b + sqrt_disc)/(2*a)\n",
        "    x2 = (-b - sqrt_disc)/(2*a)\n",
        "    return x1,x2\n",
        "\n",
        "print(resolver_cuadratica(1,-5,6))\n",
        "print(resolver_cuadratica(1,0,1))"
      ]
    }
  ],
  "metadata": {
    "colab": {
      "provenance": [],
      "include_colab_link": true
    }
  },
  "nbformat": 4,
  "nbformat_minor": 5
}