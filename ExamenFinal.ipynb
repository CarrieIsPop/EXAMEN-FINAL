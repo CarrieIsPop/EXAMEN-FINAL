{
  "cells": [
    {
      "cell_type": "markdown",
      "metadata": {
        "id": "view-in-github",
        "colab_type": "text"
      },
      "source": [
        "<a href=\"https://colab.research.google.com/github/CarrieIsPop/EXAMEN-FINAL/blob/main/ExamenFinal.ipynb\" target=\"_parent\"><img src=\"https://colab.research.google.com/assets/colab-badge.svg\" alt=\"Open In Colab\"/></a>"
      ]
    },
    {
      "cell_type": "markdown",
      "id": "12e7edb9",
      "metadata": {
        "id": "12e7edb9"
      },
      "source": [
        "Examen Práctico"
      ]
    },
    {
      "cell_type": "code",
      "execution_count": 1,
      "id": "36b8427c",
      "metadata": {
        "colab": {
          "base_uri": "https://localhost:8080/"
        },
        "id": "36b8427c",
        "outputId": "7bbb452a-8db0-4d3d-f918-96b41a96ea3f"
      },
      "outputs": [
        {
          "output_type": "stream",
          "name": "stdout",
          "text": [
            "numpy version: 2.0.2\n",
            "pandas version: 2.2.2\n"
          ]
        }
      ],
      "source": [
        "import numpy as np\n",
        "import pandas as pd\n",
        "import cmath\n",
        "\n",
        "np.random.seed(0)\n",
        "\n",
        "print('numpy version:', np.__version__)\n",
        "print('pandas version:', pd.__version__)"
      ]
    },
    {
      "cell_type": "markdown",
      "id": "1ae61091",
      "metadata": {
        "id": "1ae61091"
      },
      "source": [
        "## Parte 1: Fundamentos NumPy"
      ]
    },
    {
      "cell_type": "code",
      "execution_count": 2,
      "id": "6b3d0345",
      "metadata": {
        "colab": {
          "base_uri": "https://localhost:8080/"
        },
        "id": "6b3d0345",
        "outputId": "6d60a377-cbb3-4cc8-c52a-ee1358ebc218"
      },
      "outputs": [
        {
          "output_type": "stream",
          "name": "stdout",
          "text": [
            "[ 1  2  3  4  5  6  7  8  9 10 11 12 13 14 15 16 17 18 19 20]\n",
            "[ 3  6  9 12 15 18]\n",
            "[[0.5488135  0.71518937 0.60276338 0.54488318 0.4236548 ]\n",
            " [0.64589411 0.43758721 0.891773   0.96366276 0.38344152]\n",
            " [0.79172504 0.52889492 0.56804456 0.92559664 0.07103606]\n",
            " [0.0871293  0.0202184  0.83261985 0.77815675 0.87001215]\n",
            " [0.97861834 0.79915856 0.46147936 0.78052918 0.11827443]]\n",
            "Media: 0.5907662544523903\n",
            "Desviación estándar: 0.2824260166721418\n",
            "Máximo: 0.978618342232764\n",
            "[0.5488135  0.71518937 0.60276338 0.54488318 0.4236548  0.64589411\n",
            " 0.43758721 0.891773   0.96366276 0.38344152 0.79172504 0.52889492\n",
            " 0.56804456 0.92559664 0.07103606 0.0871293  0.0202184  0.83261985\n",
            " 0.77815675 0.87001215 0.97861834 0.79915856 0.46147936 0.78052918\n",
            " 0.11827443]\n"
          ]
        }
      ],
      "source": [
        "arr = np.arange(1, 21)\n",
        "print(arr)\n",
        "\n",
        "print(arr[arr % 3 == 0])\n",
        "\n",
        "mat = np.random.rand(5, 5)\n",
        "print(mat)\n",
        "\n",
        "print('Media:', mat.mean())\n",
        "print('Desviación estándar:', mat.std())\n",
        "print('Máximo:', mat.max())\n",
        "\n",
        "print(mat.flatten())"
      ]
    },
    {
      "cell_type": "markdown",
      "id": "9946343d",
      "metadata": {
        "id": "9946343d"
      },
      "source": [
        "## Parte 2: Fundamentos Pandas"
      ]
    },
    {
      "cell_type": "code",
      "execution_count": 3,
      "id": "26c395e9",
      "metadata": {
        "colab": {
          "base_uri": "https://localhost:8080/"
        },
        "id": "26c395e9",
        "outputId": "685ee312-5fe1-48f7-bd1d-abaf60de93fe"
      },
      "outputs": [
        {
          "output_type": "stream",
          "name": "stdout",
          "text": [
            "        Edad  Nota_Matemáticas  Nota_IA\n",
            "Nombre                                 \n",
            "Ana       20                18       17\n",
            "Luis      21                15       14\n",
            "María     19                16       18\n",
            "Pedro     22                12       13\n",
            "Sofía     20                19       20\n",
            "Edad                20.4\n",
            "Nota_Matemáticas    16.0\n",
            "Nota_IA             16.4\n",
            "dtype: float64\n",
            "        Edad  Nota_Matemáticas  Nota_IA\n",
            "Nombre                                 \n",
            "Ana       20                18       17\n",
            "María     19                16       18\n",
            "Sofía     20                19       20\n",
            "        Edad  Nota_Matemáticas  Nota_IA  Promedio\n",
            "Nombre                                           \n",
            "Ana       20                18       17      17.5\n",
            "Luis      21                15       14      14.5\n",
            "María     19                16       18      17.0\n",
            "Pedro     22                12       13      12.5\n",
            "Sofía     20                19       20      19.5\n",
            "        Edad  Nota_Matemáticas  Nota_IA  Promedio\n",
            "Nombre                                           \n",
            "Sofía     20                19       20      19.5\n",
            "Ana       20                18       17      17.5\n",
            "María     19                16       18      17.0\n",
            "Luis      21                15       14      14.5\n",
            "Pedro     22                12       13      12.5\n"
          ]
        }
      ],
      "source": [
        "data = {\n",
        "    'Nombre': ['Ana', 'Luis', 'María', 'Pedro', 'Sofía'],\n",
        "    'Edad': [20, 21, 19, 22, 20],\n",
        "    'Nota_Matemáticas': [18, 15, 16, 12, 19],\n",
        "    'Nota_IA': [17, 14, 18, 13, 20]\n",
        "}\n",
        "\n",
        "df = pd.DataFrame(data).set_index('Nombre')\n",
        "print(df)\n",
        "\n",
        "print(df.mean(numeric_only=True))\n",
        "\n",
        "print(df[df['Nota_IA'] > 15])\n",
        "\n",
        "df['Promedio'] = df[['Nota_Matemáticas','Nota_IA']].mean(axis=1)\n",
        "print(df)\n",
        "\n",
        "print(df.sort_values('Promedio', ascending=False))"
      ]
    },
    {
      "cell_type": "markdown",
      "id": "59dde79f",
      "metadata": {
        "id": "59dde79f"
      },
      "source": [
        "## Parte 3: Algoritmia aplicada"
      ]
    },
    {
      "cell_type": "code",
      "execution_count": 4,
      "id": "36ce984a",
      "metadata": {
        "colab": {
          "base_uri": "https://localhost:8080/"
        },
        "id": "36ce984a",
        "outputId": "82170630-1389-4c4b-c8cb-d7207d828e56"
      },
      "outputs": [
        {
          "output_type": "stream",
          "name": "stdout",
          "text": [
            "(9, 2, 5.0)\n"
          ]
        }
      ],
      "source": [
        "def mayor_menor_promedio(lista):\n",
        "    if not lista:\n",
        "        raise ValueError('Lista vacía')\n",
        "    return max(lista), min(lista), sum(lista)/len(lista)\n",
        "\n",
        "print(mayor_menor_promedio([3,7,2,9,4]))"
      ]
    },
    {
      "cell_type": "code",
      "execution_count": 5,
      "id": "1a69b803",
      "metadata": {
        "colab": {
          "base_uri": "https://localhost:8080/"
        },
        "id": "1a69b803",
        "outputId": "1991acea-aff0-42a8-9f90-d9e1c693b31a"
      },
      "outputs": [
        {
          "output_type": "stream",
          "name": "stdout",
          "text": [
            "[0.11920292 0.26894142 0.5        0.73105858 0.88079708]\n"
          ]
        }
      ],
      "source": [
        "def sigmoid(x):\n",
        "    x = np.array(x)\n",
        "    return 1/(1+np.exp(-x))\n",
        "\n",
        "x = np.array([-2,-1,0,1,2])\n",
        "print(sigmoid(x))"
      ]
    },
    {
      "cell_type": "code",
      "execution_count": 6,
      "id": "60c63a41",
      "metadata": {
        "colab": {
          "base_uri": "https://localhost:8080/"
        },
        "id": "60c63a41",
        "outputId": "fa70c3f4-8a87-48f0-9128-a003f46d1e6f"
      },
      "outputs": [
        {
          "output_type": "stream",
          "name": "stdout",
          "text": [
            "        Edad  Nota_Matemáticas  Nota_IA  Promedio       Estado\n",
            "Nombre                                                        \n",
            "Ana       20                18       17      17.5     Aprobado\n",
            "Luis      21                15       14      14.5     Aprobado\n",
            "María     19                16       18      17.0     Aprobado\n",
            "Pedro     22                12       13      12.5  Desaprobado\n",
            "Sofía     20                19       20      19.5     Aprobado\n"
          ]
        }
      ],
      "source": [
        "def clasificar(promedio):\n",
        "    return 'Aprobado' if promedio >= 14 else 'Desaprobado'\n",
        "\n",
        "df['Estado'] = df['Promedio'].apply(clasificar)\n",
        "print(df)"
      ]
    },
    {
      "cell_type": "markdown",
      "id": "3af96bd1",
      "metadata": {
        "id": "3af96bd1"
      },
      "source": [
        "Parte 4: Mini-proyecto"
      ]
    },
    {
      "cell_type": "code",
      "execution_count": 7,
      "id": "5cc21ebd",
      "metadata": {
        "colab": {
          "base_uri": "https://localhost:8080/"
        },
        "id": "5cc21ebd",
        "outputId": "25ae6b07-43ff-446f-9205-6c40a9c0e0d5"
      },
      "outputs": [
        {
          "output_type": "stream",
          "name": "stdout",
          "text": [
            "  Producto  Ventas_2024  Ventas_2025\n",
            "0        A          120          200\n",
            "1        B          340          400\n",
            "2        C          560          600\n",
            "3        D          230          300\n",
            "4        E          150          180\n",
            "  Producto  Ventas_2024  Ventas_2025  Crecimiento (%)\n",
            "0        A          120          200            66.67\n",
            "1        B          340          400            17.65\n",
            "2        C          560          600             7.14\n",
            "3        D          230          300            30.43\n",
            "4        E          150          180            20.00\n",
            "Producto con mayor crecimiento:\n",
            " Producto               A\n",
            "Ventas_2024          120\n",
            "Ventas_2025          200\n",
            "Crecimiento (%)    66.67\n",
            "Name: 0, dtype: object\n"
          ]
        }
      ],
      "source": [
        "datos = {\n",
        "    'Producto': ['A','B','C','D','E'],\n",
        "    'Ventas_2024': [120, 340, 560, 230, 150],\n",
        "    'Ventas_2025': [200, 400, 600, 300, 180]\n",
        "}\n",
        "\n",
        "df_ventas = pd.DataFrame(datos)\n",
        "print(df_ventas)\n",
        "\n",
        "df_ventas['Crecimiento (%)'] = ((df_ventas['Ventas_2025'] - df_ventas['Ventas_2024']) / df_ventas['Ventas_2024'] * 100).round(2)\n",
        "print(df_ventas)\n",
        "\n",
        "producto_max = df_ventas.loc[df_ventas['Crecimiento (%)'].idxmax()]\n",
        "print('Producto con mayor crecimiento:\\n', producto_max)"
      ]
    },
    {
      "cell_type": "markdown",
      "id": "5b2a092f",
      "metadata": {
        "id": "5b2a092f"
      },
      "source": [
        "## Parte 5: Resolución de ecuaciones"
      ]
    },
    {
      "cell_type": "code",
      "execution_count": 8,
      "id": "3dd63d1b",
      "metadata": {
        "colab": {
          "base_uri": "https://localhost:8080/"
        },
        "id": "3dd63d1b",
        "outputId": "a82aef4d-ba97-4d6d-c7d8-7b85e62c6b1b"
      },
      "outputs": [
        {
          "output_type": "stream",
          "name": "stdout",
          "text": [
            "-2.0\n"
          ]
        }
      ],
      "source": [
        "def resolver_lineal(a,b):\n",
        "    if a==0:\n",
        "        return 'Infinitas soluciones' if b==0 else 'Sin solución'\n",
        "    return -b/a\n",
        "\n",
        "print(resolver_lineal(2,4))"
      ]
    },
    {
      "cell_type": "code",
      "execution_count": 9,
      "id": "b89c5bf0",
      "metadata": {
        "colab": {
          "base_uri": "https://localhost:8080/"
        },
        "id": "b89c5bf0",
        "outputId": "d5576b4e-6238-4ce5-c166-54b23cd05f89"
      },
      "outputs": [
        {
          "output_type": "stream",
          "name": "stdout",
          "text": [
            "((3+0j), (2+0j))\n",
            "(1j, -1j)\n"
          ]
        }
      ],
      "source": [
        "def resolver_cuadratica(a,b,c):\n",
        "    if a==0:\n",
        "        return resolver_lineal(b,c)\n",
        "    disc = b**2 - 4*a*c\n",
        "    sqrt_disc = cmath.sqrt(disc)\n",
        "    x1 = (-b + sqrt_disc)/(2*a)\n",
        "    x2 = (-b - sqrt_disc)/(2*a)\n",
        "    return x1,x2\n",
        "\n",
        "print(resolver_cuadratica(1,-5,6))\n",
        "print(resolver_cuadratica(1,0,1))"
      ]
    }
  ],
  "metadata": {
    "colab": {
      "provenance": [],
      "include_colab_link": true
    },
    "language_info": {
      "name": "python"
    },
    "kernelspec": {
      "name": "python3",
      "display_name": "Python 3"
    }
  },
  "nbformat": 4,
  "nbformat_minor": 5
}